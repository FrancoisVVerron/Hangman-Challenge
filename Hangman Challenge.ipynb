{
 "cells": [
  {
   "cell_type": "markdown",
   "metadata": {},
   "source": [
    "# Game"
   ]
  },
  {
   "cell_type": "code",
   "execution_count": null,
   "metadata": {},
   "outputs": [],
   "source": [
    "import random\n",
    "def main():\n",
    "    wins=0\n",
    "    loses=0\n",
    "    print (50*\"*\"+\"Hangman Game\"+50*\"*\")\n",
    "    \n",
    "    play_again=True #Set a variable if the user wants to stop the game after the end\n",
    "    \n",
    "    while play_again:#loop for the game\n",
    "        \n",
    "        list = [\"stick\",\"john\",\"pencil\",\"rubber\",\"glove\",\"quick\",\"brown\",\"fox\",\"jumps\",\n",
    "            \"over\" ,\"lazy\",\"dog\",\"manner\",\"house\",\"food\",\"brain\",\"history\",\"love\",\"peace\", \"object\"]\n",
    "        word=random.choice(list)#Chooses randomly a word in the list\n",
    "        hiddenword=['_' for i in word] #replaces every caracter by '_'\n",
    "        print(\"Your guess so far is : \"+str(hiddenword))\n",
    "        guessed_letters=[]\n",
    "        \n",
    "        life=10\n",
    "        while life>0:\n",
    "            if(sum([a == '_' for a in hiddenword])==0):\n",
    "                print(\"You got it Buddy ! The word was : '\"+str(word)+\"'\")\n",
    "                wins+=1\n",
    "                loses=0\n",
    "                print(\"Wins so far : \"+str(wins))\n",
    "                break\n",
    "            else:\n",
    "                guess=str(input())\n",
    "                if guess in guessed_letters:\n",
    "                    print(\"Letter already guessed\")\n",
    "                else:\n",
    "                    guessed_letters.append(guess)\n",
    "                    hiddenword=[guess if guess==word[i] else hiddenword[i] for i in range(len(word))]\n",
    "                    print(hiddenword)\n",
    "                    life-=1\n",
    "                    print(\"You have got \"+str(life)+\" chances left\")\n",
    "        \n",
    "        if life==0:\n",
    "            print(\"Game Over Buddy\"))\n",
    "            wins=0\n",
    "            loses+=1\n",
    "            print(\"Loses so far : \"+str(loses))\n",
    "    \n",
    "        print(\"Would you like to play again ?\")\n",
    "        response=input('>').lower()\n",
    "        if response not in (\"yes\",\"y\"):\n",
    "            play_again=False\n",
    "            print(\"See you later Buddy !\")\n",
    "            \n",
    "if __name__ == \"__main__\":\n",
    "    main()"
   ]
  }
 ],
 "metadata": {
  "kernelspec": {
   "display_name": "Python 3",
   "language": "python",
   "name": "python3"
  },
  "language_info": {
   "codemirror_mode": {
    "name": "ipython",
    "version": 3
   },
   "file_extension": ".py",
   "mimetype": "text/x-python",
   "name": "python",
   "nbconvert_exporter": "python",
   "pygments_lexer": "ipython3",
   "version": "3.6.4"
  }
 },
 "nbformat": 4,
 "nbformat_minor": 2
}
